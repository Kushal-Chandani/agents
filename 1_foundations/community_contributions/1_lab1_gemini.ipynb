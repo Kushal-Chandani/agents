{
 "cells": [
  {
   "cell_type": "markdown",
   "metadata": {},
   "source": [
    "# Welcome to the start of your adventure in Agentic AI"
   ]
  },
  {
   "cell_type": "markdown",
   "metadata": {},
   "source": [
    "<table style=\"margin: 0; text-align: left; width:100%\">\n",
    "    <tr>\n",
    "        <td style=\"width: 150px; height: 150px; vertical-align: middle;\">\n",
    "            <img src=\"../../assets/stop.png\" width=\"150\" height=\"150\" style=\"display: block;\" />\n",
    "        </td>\n",
    "        <td>\n",
    "            <h2 style=\"color:#ff7800;\">Are you ready for action??</h2>\n",
    "            <span style=\"color:#ff7800;\">Have you completed all the setup steps in the <a href=\"../setup/\">setup</a> folder?<br/>\n",
    "            Have you checked out the guides in the <a href=\"../guides/01_intro.ipynb\">guides</a> folder?<br/>\n",
    "            Well in that case, you're ready!!\n",
    "            </span>\n",
    "        </td>\n",
    "    </tr>\n",
    "</table>"
   ]
  },
  {
   "cell_type": "markdown",
   "metadata": {},
   "source": [
    "<table style=\"margin: 0; text-align: left; width:100%\">\n",
    "    <tr>\n",
    "        <td style=\"width: 150px; height: 150px; vertical-align: middle;\">\n",
    "            <img src=\"../../assets/tools.png\" width=\"150\" height=\"150\" style=\"display: block;\" />\n",
    "        </td>\n",
    "        <td>\n",
    "            <h2 style=\"color:#00bfff;\">Treat these labs as a resource</h2>\n",
    "            <span style=\"color:#00bfff;\">I push updates to the code regularly. When people ask questions or have problems, I incorporate it in the code, adding more examples or improved commentary. As a result, you'll notice that the code below isn't identical to the videos. Everything from the videos is here; but in addition, I've added more steps and better explanations. Consider this like an interactive book that accompanies the lectures.\n",
    "            </span>\n",
    "        </td>\n",
    "    </tr>\n",
    "</table>"
   ]
  },
  {
   "cell_type": "markdown",
   "metadata": {},
   "source": [
    "### And please do remember to contact me if I can help\n",
    "\n",
    "And I love to connect: https://www.linkedin.com/in/eddonner/\n",
    "\n",
    "\n",
    "### New to Notebooks like this one? Head over to the guides folder!\n",
    "\n",
    "Just to check you've already added the Python and Jupyter extensions to Cursor, if not already installed:\n",
    "- Open extensions (View >> extensions)\n",
    "- Search for python, and when the results show, click on the ms-python one, and Install it if not already installed\n",
    "- Search for jupyter, and when the results show, click on the Microsoft one, and Install it if not already installed  \n",
    "Then View >> Explorer to bring back the File Explorer.\n",
    "\n",
    "And then:\n",
    "1. Run `uv add google-genai` to install the Google Gemini library. (If you had started your environment before running this command, you will need to restart your environment in the Jupyter notebook.)\n",
    "2. Click where it says \"Select Kernel\" near the top right, and select the option called `.venv (Python 3.12.9)` or similar, which should be the first choice or the most prominent choice. You may need to choose \"Python Environments\" first.\n",
    "3. Click in each \"cell\" below, starting with the cell immediately below this text, and press Shift+Enter to run\n",
    "4. Enjoy!\n",
    "\n",
    "After you click \"Select Kernel\", if there is no option like `.venv (Python 3.12.9)` then please do the following:  \n",
    "1. From the Cursor menu, choose Settings >> VSCode Settings (NOTE: be sure to select `VSCode Settings` not `Cursor Settings`)  \n",
    "2. In the Settings search bar, type \"venv\"  \n",
    "3. In the field \"Path to folder with a list of Virtual Environments\" put the path to the project root, like C:\\Users\\username\\projects\\agents (on a Windows PC) or /Users/username/projects/agents (on Mac or Linux).  \n",
    "And then try again.\n",
    "\n",
    "Having problems with missing Python versions in that list? Have you ever used Anaconda before? It might be interferring. Quit Cursor, bring up a new command line, and make sure that your Anaconda environment is deactivated:    \n",
    "`conda deactivate`  \n",
    "And if you still have any problems with conda and python versions, it's possible that you will need to run this too:  \n",
    "`conda config --set auto_activate_base false`  \n",
    "and then from within the Agents directory, you should be able to run `uv python list` and see the Python 3.12 version."
   ]
  },
  {
   "cell_type": "code",
   "execution_count": 1,
   "metadata": {},
   "outputs": [],
   "source": [
    "# First let's do an import\n",
    "from dotenv import load_dotenv\n"
   ]
  },
  {
   "cell_type": "code",
   "execution_count": 2,
   "metadata": {},
   "outputs": [
    {
     "data": {
      "text/plain": [
       "True"
      ]
     },
     "execution_count": 2,
     "metadata": {},
     "output_type": "execute_result"
    }
   ],
   "source": [
    "# Next it's time to load the API keys into environment variables\n",
    "\n",
    "load_dotenv(override=True)"
   ]
  },
  {
   "cell_type": "code",
   "execution_count": 3,
   "metadata": {},
   "outputs": [
    {
     "name": "stdout",
     "output_type": "stream",
     "text": [
      "Gemini API Key exists and begins AIzaSyCN\n"
     ]
    }
   ],
   "source": [
    "# Check the keys\n",
    "\n",
    "import os\n",
    "gemini_api_key = os.getenv('GEMINI_API_KEY')\n",
    "\n",
    "if gemini_api_key:\n",
    "    print(f\"Gemini API Key exists and begins {gemini_api_key[:8]}\")\n",
    "else:\n",
    "    print(\"Gemini API Key not set - please head to the troubleshooting guide in the guides folder\")\n",
    "    \n"
   ]
  },
  {
   "cell_type": "code",
   "execution_count": 4,
   "metadata": {},
   "outputs": [],
   "source": [
    "# And now - the all important import statement\n",
    "# If you get an import error - head over to troubleshooting guide\n",
    "\n",
    "from google import genai"
   ]
  },
  {
   "cell_type": "code",
   "execution_count": 5,
   "metadata": {},
   "outputs": [],
   "source": [
    "# And now we'll create an instance of the Gemini GenAI class\n",
    "# If you're not sure what it means to create an instance of a class - head over to the guides folder!\n",
    "# If you get a NameError - head over to the guides folder to learn about NameErrors\n",
    "\n",
    "client = genai.Client(api_key=gemini_api_key)"
   ]
  },
  {
   "cell_type": "code",
   "execution_count": 6,
   "metadata": {},
   "outputs": [],
   "source": [
    "# Create a list of messages in the familiar Gemini GenAI format\n",
    "\n",
    "messages = [\"What is 2+2?\"]"
   ]
  },
  {
   "cell_type": "code",
   "execution_count": 7,
   "metadata": {},
   "outputs": [
    {
     "name": "stdout",
     "output_type": "stream",
     "text": [
      "2 + 2 = 4\n",
      "\n"
     ]
    }
   ],
   "source": [
    "# And now call it! Any problems, head to the troubleshooting guide\n",
    "\n",
    "response = client.models.generate_content(\n",
    "    model=\"gemini-2.0-flash\", contents=messages\n",
    ")\n",
    "\n",
    "print(response.text)\n"
   ]
  },
  {
   "cell_type": "code",
   "execution_count": 8,
   "metadata": {},
   "outputs": [
    {
     "name": "stdout",
     "output_type": "stream",
     "text": [
      "A king has 1000 bottles of wine. A terrorist has poisoned exactly one of the bottles, but the king doesn't know which one. The poison is undetectable, but even the smallest amount will kill a person exactly 30 days after they drink it. The king has 10 prisoners and is willing to use them to find the poisoned bottle. He needs to know which bottle is poisoned within 30 days. How can the king use the prisoners to identify the poisoned bottle with absolute certainty, and what steps should he take?\n",
      "\n"
     ]
    }
   ],
   "source": [
    "\n",
    "# Lets no create a challenging question\n",
    "question = \"Please propose a hard, challenging question to assess someone's IQ. Respond only with the question.\"\n",
    "\n",
    "# Ask the the model\n",
    "response = client.models.generate_content(\n",
    "    model=\"gemini-2.0-flash\", contents=question\n",
    ")\n",
    "\n",
    "question = response.text\n",
    "\n",
    "print(question)\n"
   ]
  },
  {
   "cell_type": "code",
   "execution_count": 9,
   "metadata": {},
   "outputs": [
    {
     "name": "stdout",
     "output_type": "stream",
     "text": [
      "Here's how the king can solve this problem using a binary encoding strategy:\n",
      "\n",
      "**The Strategy: Binary Encoding**\n",
      "\n",
      "The core idea is to represent each bottle with a unique binary number.  Each prisoner will represent a bit position in that binary number.\n",
      "\n",
      "**Steps:**\n",
      "\n",
      "1. **Number the Bottles:** Assign each of the 1000 bottles a unique number from 1 to 1000.\n",
      "\n",
      "2. **Convert to Binary:** Convert each bottle number into its binary equivalent. Since we need to represent 1000 bottles, we'll need 10 binary digits (2^10 = 1024, which is greater than 1000).  For example:\n",
      "   * Bottle 1: 0000000001\n",
      "   * Bottle 2: 0000000010\n",
      "   * Bottle 3: 0000000011\n",
      "   * Bottle 4: 0000000100\n",
      "   * ...\n",
      "   * Bottle 1000: 1111101000\n",
      "\n",
      "3. **Assign Prisoners:** Assign each prisoner to a bit position (from right to left):\n",
      "   * Prisoner 1: Represents the rightmost bit (the 1's place)\n",
      "   * Prisoner 2: Represents the second rightmost bit (the 2's place)\n",
      "   * Prisoner 3: Represents the third rightmost bit (the 4's place)\n",
      "   * ...\n",
      "   * Prisoner 10: Represents the tenth rightmost bit (the 512's place)\n",
      "\n",
      "4. **Wine Distribution:** For each bottle, have the prisoners drink a small amount of the wine *if their corresponding bit is a \"1\"*.\n",
      "   * Example:\n",
      "      * Bottle 3 (0000000011): Prisoners 1 and 2 drink from this bottle.\n",
      "      * Bottle 5 (0000000101): Prisoners 1 and 3 drink from this bottle.\n",
      "      * Bottle 500 (0111110100): Prisoners 3, 4, 5, 6, 7, and 9 drink from this bottle.\n",
      "\n",
      "5. **Observation Period:** Wait 30 days.\n",
      "\n",
      "6. **Identify the Poisoned Bottle:** Observe which prisoners die. Create a binary number based on the dead prisoners:\n",
      "   * If Prisoner *n* dies, put a \"1\" in the *n*th bit position (from right to left).\n",
      "   * If Prisoner *n* lives, put a \"0\" in the *n*th bit position.\n",
      "\n",
      "7. **Convert Back to Decimal:** Convert the resulting binary number back to its decimal equivalent.  This number is the poisoned bottle!\n",
      "\n",
      "**Example:**\n",
      "\n",
      "Let's say after 30 days, Prisoners 2, 4, and 7 die.\n",
      "\n",
      "* This translates to the binary number: 000010010 (reading prisoner deaths from left to right as 10th prisoner to 1st prisoner)\n",
      "* Converting to decimal: (0 * 512) + (0 * 256) + (0 * 128) + (0 * 64) + (1 * 32) + (0 * 16) + (0 * 8) + (1 * 4) + (0 * 2) + (0 * 1) = 36\n",
      "* Therefore, bottle number 36 is the poisoned bottle.\n",
      "\n",
      "**Why This Works:**\n",
      "\n",
      "Each bottle has a unique binary code.  By having prisoners drink from bottles according to their bit position, we're essentially creating a unique \"fingerprint\" of which prisoners will die if that bottle is poisoned. The pattern of deaths directly reveals the binary representation of the poisoned bottle.\n",
      "\n",
      "**Important Considerations:**\n",
      "\n",
      "* **Small Sample Size:** The key is to give the prisoners a *very* small amount of wine.  It only needs to be enough to deliver the poison after 30 days. This minimizes the overall harm.\n",
      "* **Reliability:** This method works with absolute certainty, assuming that the poison *always* takes effect in exactly 30 days, and the prisoners' health doesn't affect this timeline.\n",
      "* **Ethics:** While the problem is presented as a puzzle, it's important to acknowledge the ethical implications of sacrificing lives, even the lives of prisoners. This solution is for illustrative purposes and should not be taken as an endorsement of harmful actions.\n",
      "\n"
     ]
    }
   ],
   "source": [
    "# Ask the models generated question to the model\n",
    "response = client.models.generate_content(\n",
    "    model=\"gemini-2.0-flash\", contents=question\n",
    ")\n",
    "\n",
    "# Extract the answer from the response\n",
    "answer = response.text\n",
    "\n",
    "# Debug log the answer\n",
    "print(answer)\n"
   ]
  },
  {
   "cell_type": "code",
   "execution_count": 10,
   "metadata": {},
   "outputs": [
    {
     "data": {
      "text/markdown": [
       "Here's how the king can solve this problem using a binary encoding strategy:\n",
       "\n",
       "**The Strategy: Binary Encoding**\n",
       "\n",
       "The core idea is to represent each bottle with a unique binary number.  Each prisoner will represent a bit position in that binary number.\n",
       "\n",
       "**Steps:**\n",
       "\n",
       "1. **Number the Bottles:** Assign each of the 1000 bottles a unique number from 1 to 1000.\n",
       "\n",
       "2. **Convert to Binary:** Convert each bottle number into its binary equivalent. Since we need to represent 1000 bottles, we'll need 10 binary digits (2^10 = 1024, which is greater than 1000).  For example:\n",
       "   * Bottle 1: 0000000001\n",
       "   * Bottle 2: 0000000010\n",
       "   * Bottle 3: 0000000011\n",
       "   * Bottle 4: 0000000100\n",
       "   * ...\n",
       "   * Bottle 1000: 1111101000\n",
       "\n",
       "3. **Assign Prisoners:** Assign each prisoner to a bit position (from right to left):\n",
       "   * Prisoner 1: Represents the rightmost bit (the 1's place)\n",
       "   * Prisoner 2: Represents the second rightmost bit (the 2's place)\n",
       "   * Prisoner 3: Represents the third rightmost bit (the 4's place)\n",
       "   * ...\n",
       "   * Prisoner 10: Represents the tenth rightmost bit (the 512's place)\n",
       "\n",
       "4. **Wine Distribution:** For each bottle, have the prisoners drink a small amount of the wine *if their corresponding bit is a \"1\"*.\n",
       "   * Example:\n",
       "      * Bottle 3 (0000000011): Prisoners 1 and 2 drink from this bottle.\n",
       "      * Bottle 5 (0000000101): Prisoners 1 and 3 drink from this bottle.\n",
       "      * Bottle 500 (0111110100): Prisoners 3, 4, 5, 6, 7, and 9 drink from this bottle.\n",
       "\n",
       "5. **Observation Period:** Wait 30 days.\n",
       "\n",
       "6. **Identify the Poisoned Bottle:** Observe which prisoners die. Create a binary number based on the dead prisoners:\n",
       "   * If Prisoner *n* dies, put a \"1\" in the *n*th bit position (from right to left).\n",
       "   * If Prisoner *n* lives, put a \"0\" in the *n*th bit position.\n",
       "\n",
       "7. **Convert Back to Decimal:** Convert the resulting binary number back to its decimal equivalent.  This number is the poisoned bottle!\n",
       "\n",
       "**Example:**\n",
       "\n",
       "Let's say after 30 days, Prisoners 2, 4, and 7 die.\n",
       "\n",
       "* This translates to the binary number: 000010010 (reading prisoner deaths from left to right as 10th prisoner to 1st prisoner)\n",
       "* Converting to decimal: (0 * 512) + (0 * 256) + (0 * 128) + (0 * 64) + (1 * 32) + (0 * 16) + (0 * 8) + (1 * 4) + (0 * 2) + (0 * 1) = 36\n",
       "* Therefore, bottle number 36 is the poisoned bottle.\n",
       "\n",
       "**Why This Works:**\n",
       "\n",
       "Each bottle has a unique binary code.  By having prisoners drink from bottles according to their bit position, we're essentially creating a unique \"fingerprint\" of which prisoners will die if that bottle is poisoned. The pattern of deaths directly reveals the binary representation of the poisoned bottle.\n",
       "\n",
       "**Important Considerations:**\n",
       "\n",
       "* **Small Sample Size:** The key is to give the prisoners a *very* small amount of wine.  It only needs to be enough to deliver the poison after 30 days. This minimizes the overall harm.\n",
       "* **Reliability:** This method works with absolute certainty, assuming that the poison *always* takes effect in exactly 30 days, and the prisoners' health doesn't affect this timeline.\n",
       "* **Ethics:** While the problem is presented as a puzzle, it's important to acknowledge the ethical implications of sacrificing lives, even the lives of prisoners. This solution is for illustrative purposes and should not be taken as an endorsement of harmful actions.\n"
      ],
      "text/plain": [
       "<IPython.core.display.Markdown object>"
      ]
     },
     "metadata": {},
     "output_type": "display_data"
    }
   ],
   "source": [
    "from IPython.display import Markdown, display\n",
    "\n",
    "# Nicely format the answer using Markdown\n",
    "display(Markdown(answer))\n",
    "\n"
   ]
  },
  {
   "cell_type": "markdown",
   "metadata": {},
   "source": [
    "# Congratulations!\n",
    "\n",
    "That was a small, simple step in the direction of Agentic AI, with your new environment!\n",
    "\n",
    "Next time things get more interesting..."
   ]
  },
  {
   "cell_type": "markdown",
   "metadata": {},
   "source": [
    "<table style=\"margin: 0; text-align: left; width:100%\">\n",
    "    <tr>\n",
    "        <td style=\"width: 150px; height: 150px; vertical-align: middle;\">\n",
    "            <img src=\"../assets/exercise.png\" width=\"150\" height=\"150\" style=\"display: block;\" />\n",
    "        </td>\n",
    "        <td>\n",
    "            <h2 style=\"color:#ff7800;\">Exercise</h2>\n",
    "            <span style=\"color:#ff7800;\">Now try this commercial application:<br/>\n",
    "            First ask the LLM to pick a business area that might be worth exploring for an Agentic AI opportunity.<br/>\n",
    "            Then ask the LLM to present a pain-point in that industry - something challenging that might be ripe for an Agentic solution.<br/>\n",
    "            Finally have 3 third LLM call propose the Agentic AI solution.\n",
    "            </span>\n",
    "        </td>\n",
    "    </tr>\n",
    "</table>"
   ]
  },
  {
   "cell_type": "code",
   "execution_count": 13,
   "metadata": {},
   "outputs": [
    {
     "name": "stdout",
     "output_type": "stream",
     "text": [
      "Alright! Put on your thinking caps and let's get down to business! As your Toy Business Consultant, I'm here to help you navigate the exciting, colorful, and sometimes challenging world of toys.\n",
      "\n",
      "**Here's how I can assist you:**\n",
      "\n",
      "*   **Market Analysis:**\n",
      "    *   Identifying current toy trends (STEM toys, collectibles, sustainable toys, etc.)\n",
      "    *   Analyzing competitor strategies (pricing, product lines, marketing)\n",
      "    *   Understanding target audience preferences (age groups, interests, buying habits)\n",
      "    *   Assessing market gaps and opportunities\n",
      "\n",
      "*   **Product Development & Sourcing:**\n",
      "    *   Brainstorming new toy ideas and concepts\n",
      "    *   Evaluating product feasibility and profitability\n",
      "    *   Advising on toy safety standards and regulations\n",
      "    *   Finding reliable toy manufacturers and suppliers (domestic and international)\n",
      "    *   Helping optimize your product mix to maximize sales\n",
      "\n",
      "*   **Marketing & Sales Strategies:**\n",
      "    *   Developing a comprehensive marketing plan (online, offline, social media)\n",
      "    *   Optimizing your online presence (website, e-commerce platforms, SEO)\n",
      "    *   Creating engaging content to attract and retain customers\n",
      "    *   Exploring partnerships with retailers, influencers, and other businesses\n",
      "    *   Strategies for product launches and promotions\n",
      "\n",
      "*   **Business Operations & Finance:**\n",
      "    *   Developing a business plan (mission, vision, goals, strategies)\n",
      "    *   Financial planning and budgeting\n",
      "    *   Supply chain management and inventory control\n",
      "    *   Pricing strategies and profit margin optimization\n",
      "    *   Legal considerations (intellectual property, licensing agreements)\n",
      "\n",
      "*   **Sustainability & Ethical Sourcing:**\n",
      "    *   Guiding you on sourcing materials responsibly.\n",
      "    *   Reducing your brand's environmental impact.\n",
      "\n",
      "**To help me give you the best advice, please tell me more about your situation. For example:**\n",
      "\n",
      "*   **Are you just starting a toy business, or are you looking to grow an existing one?**\n",
      "*   **What kind of toys are you interested in (e.g., educational, plush, action figures, games)?**\n",
      "*   **Who is your target audience (age range, interests)?**\n",
      "*   **What's your budget?**\n",
      "*   **What are your goals (e.g., brand recognition, market share, profitability)?**\n",
      "*   **What are your biggest challenges right now?**\n",
      "\n",
      "**I'm eager to hear about your vision and help you bring your toy business dreams to life! Let's get started!**\n",
      "\n"
     ]
    }
   ],
   "source": [
    "# First create the messages:\n",
    "\n",
    "\n",
    "messages = [\"You are a Toy business consultant!\"]\n",
    "\n",
    "# Then make the first call:\n",
    "\n",
    "response = client.models.generate_content(\n",
    "    model=\"gemini-2.0-flash\", contents=messages\n",
    ")\n",
    "\n",
    "# Then read the business idea:\n",
    "\n",
    "business_idea = response.text\n",
    "\n",
    "# And repeat!\n",
    "print (business_idea)"
   ]
  },
  {
   "cell_type": "code",
   "execution_count": 14,
   "metadata": {},
   "outputs": [
    {
     "name": "stdout",
     "output_type": "stream",
     "text": [
      "The toy business, while seemingly fun and lighthearted, faces several complex pain points across the value chain:\n",
      "\n",
      "**1. Manufacturing & Supply Chain Challenges:**\n",
      "\n",
      "*   **High Dependence on China:**  Many toy companies rely heavily on Chinese manufacturing, which can lead to supply chain disruptions due to tariffs, trade wars, factory shutdowns (e.g., due to COVID-19), and rising labor costs.\n",
      "*   **Material Costs & Availability:** Fluctuations in raw material prices (plastic, wood, textiles, etc.) can impact profit margins. Sourcing sustainable and ethical materials is increasingly important but can be more expensive and difficult to verify.\n",
      "*   **Logistics & Shipping Costs:**  Global shipping costs can be volatile and significant, particularly for bulky toys.  Port congestion, container shortages, and increased fuel prices all contribute to higher costs and potential delays.\n",
      "*   **Quality Control:** Maintaining consistent quality standards across international factories is crucial, but can be challenging. Poor quality can lead to recalls, damaged brand reputation, and financial losses.\n",
      "\n",
      "**2. Intense Competition & Market Dynamics:**\n",
      "\n",
      "*   **Short Product Lifecycles:** Toys often have short lifecycles, driven by trends, movies, and viral crazes.  Companies need to constantly innovate and release new products to stay relevant. This can lead to a lot of inventory that can be very difficult to liquidate.\n",
      "*   **Licensing Costs:**  Licensing popular characters and brands can be expensive, eating into profit margins.  Also, licensed toys are highly dependent on the success of the underlying property (e.g., a movie or TV show).\n",
      "*   **Competition from Digital Entertainment:** Video games, apps, and other digital forms of entertainment compete for children's attention and spending.  Traditional toy companies need to find ways to integrate digital experiences or offer unique value propositions.\n",
      "*   **Pricing Pressure:** Retailers exert significant pricing pressure, demanding lower wholesale prices, especially from smaller toy companies.\n",
      "*   **Counterfeit Products:**  The market is flooded with counterfeit toys, which are often lower in quality and pose safety risks.  Combating counterfeiting is costly and time-consuming.\n",
      "\n",
      "**3. Retail & Distribution Issues:**\n",
      "\n",
      "*   **Retail Consolidation:** The retail landscape is dominated by a few large players, giving them significant leverage over toy manufacturers.\n",
      "*   **Shelf Space Competition:**  Securing valuable shelf space in retail stores is highly competitive.  New or smaller brands may struggle to get their products seen.\n",
      "*   **Inventory Management:**  Forecasting demand accurately is essential to avoid overstocking or stockouts.  This is particularly difficult for trending toys or seasonal items.\n",
      "*   **Returns & Markdowns:**  Returns and markdowns can significantly impact profitability.  This is especially true for toys that don't sell well or are damaged during shipping.\n",
      "*   **The Rise of E-commerce:**  While e-commerce provides new opportunities, it also creates challenges.  Competing with online retailers like Amazon, managing shipping logistics, and dealing with online returns are all critical concerns.\n",
      "\n",
      "**4. Safety & Regulatory Compliance:**\n",
      "\n",
      "*   **Stringent Safety Regulations:** Toys are subject to strict safety regulations in most countries (e.g., CPSIA in the US, EN 71 in Europe).  Compliance testing, documentation, and potential recalls can be costly and time-consuming.\n",
      "*   **Material Safety:**  Ensuring that toys are made from non-toxic materials is paramount.  Companies must carefully monitor their supply chains and conduct rigorous testing.\n",
      "*   **Age Appropriateness:**  Designing and marketing toys that are appropriate for specific age groups is crucial to avoid safety hazards and developmental issues.\n",
      "*   **Packaging & Labeling:**  Packaging and labeling must comply with regulations and provide clear safety warnings and instructions.\n",
      "\n",
      "**5. Marketing & Brand Building:**\n",
      "\n",
      "*   **Reaching Target Audiences:** Children's attention spans are short, and they are constantly bombarded with marketing messages.  Companies need to be creative and effective in reaching their target audiences through various channels (TV, online, social media, influencers).\n",
      "*   **Building Brand Loyalty:**  Creating a strong brand identity and fostering brand loyalty is essential for long-term success.  This requires consistent messaging, high-quality products, and excellent customer service.\n",
      "*   **Adapting to Changing Trends:**  Toy trends can change rapidly.  Companies need to be agile and adapt their marketing strategies accordingly.\n",
      "*   **Ethical Marketing:**  Marketing to children raises ethical concerns.  Companies need to be mindful of the potential impact of their advertising on children's development and well-being.  They must avoid manipulative or deceptive practices.\n",
      "\n",
      "**6. Sustainability & Ethical Concerns:**\n",
      "\n",
      "*   **Environmental Impact:** The toy industry has a significant environmental impact due to the use of plastics, packaging materials, and transportation.  Consumers are increasingly demanding more sustainable and eco-friendly toys.\n",
      "*   **Ethical Labor Practices:**  Ensuring fair labor practices throughout the supply chain is crucial.  Companies need to monitor their factories and suppliers to prevent child labor, forced labor, and unsafe working conditions.\n",
      "*   **Waste Reduction:**  Reducing waste from packaging and toy disposal is a growing concern.  Companies are exploring options such as using recycled materials, designing toys for durability, and offering take-back programs.\n",
      "\n",
      "Addressing these pain points requires a multi-faceted approach, including:\n",
      "\n",
      "*   **Diversifying sourcing:** Reduce reliance on single countries for manufacturing.\n",
      "*   **Investing in innovation:** Develop unique and engaging products that stand out from the competition.\n",
      "*   **Strengthening supply chain management:** Improve visibility and control over the supply chain.\n",
      "*   **Adopting sustainable practices:**  Reduce environmental impact and ensure ethical labor practices.\n",
      "*   **Building strong brands:**  Create brand loyalty through quality, innovation, and customer service.\n",
      "*   **Embracing digital technologies:**  Integrate digital experiences into toy offerings and leverage e-commerce channels effectively.\n",
      "*   **Prioritizing safety:**  Ensure compliance with all safety regulations and maintain rigorous quality control.\n",
      "\n",
      "By understanding and addressing these challenges, toy companies can position themselves for long-term success in a dynamic and competitive market.\n",
      "\n"
     ]
    }
   ],
   "source": [
    "# First create the messages:\n",
    "\n",
    "\n",
    "messages = [\"What are the pain points of the toy business?\"]\n",
    "\n",
    "# Then make the first call:\n",
    "\n",
    "response = client.models.generate_content(\n",
    "    model=\"gemini-2.0-flash\", contents=messages\n",
    ")\n",
    "\n",
    "# Then read the business idea:\n",
    "\n",
    "business_idea = response.text\n",
    "\n",
    "# And repeat!\n",
    "print (business_idea)"
   ]
  },
  {
   "cell_type": "code",
   "execution_count": null,
   "metadata": {},
   "outputs": [
    {
     "name": "stdout",
     "output_type": "stream",
     "text": [
      "This is a very comprehensive and well-articulated overview of the pain points in the toy industry. You've effectively covered the entire value chain, from manufacturing to marketing and sustainability. The analysis is insightful and provides a clear understanding of the challenges faced by toy companies.\n",
      "\n",
      "Here are a few observations and suggestions that could further enhance the analysis:\n",
      "\n",
      "**1. Prioritization and Interdependencies:**\n",
      "\n",
      "*   While you've identified numerous pain points, it would be beneficial to prioritize them based on their impact and prevalence. Which pain points are most critical to address for survival and growth? Which are more long-term strategic concerns?\n",
      "*   Highlighting the interdependencies between the pain points would also add value. For example:\n",
      "    *   **High Dependence on China + Material Costs & Availability + Logistics & Shipping Costs:** All these issues are interconnected and can create a perfect storm for supply chain disruptions and increased costs.\n",
      "    *   **Short Product Lifecycles + Inventory Management + Returns & Markdowns:** These are tightly linked and can result in significant financial losses if not managed effectively.\n",
      "    *   **Sustainability & Ethical Concerns + Marketing & Brand Building:** Consumers are increasingly demanding ethical and sustainable products, which can be a significant selling point for brands that prioritize these values.\n",
      "\n",
      "**2. Deeper Dive into Potential Solutions:**\n",
      "\n",
      "*   While you listed general solutions, expanding on specific strategies within each solution would be helpful. For example:\n",
      "    *   **Diversifying Sourcing:** What specific countries or regions offer viable alternatives to China? What are the pros and cons of each option (e.g., Vietnam, India, Mexico)?  What are the logistical hurdles to overcome?\n",
      "    *   **Investing in Innovation:** What types of innovation are most promising? Are we talking about technological innovation (e.g., incorporating AI or AR), material innovation (e.g., using bioplastics), or business model innovation (e.g., subscription boxes)?\n",
      "    *   **Adopting Sustainable Practices:**  How can companies practically implement circular economy principles? What specific certifications or standards can they pursue?\n",
      "    *   **Embracing Digital Technologies:**  Beyond integrating digital experiences, how can companies leverage data analytics to improve demand forecasting, personalize marketing, and optimize pricing?\n",
      "\n",
      "**3. Segmenting the Industry:**\n",
      "\n",
      "*   The toy industry is diverse. Consider segmenting the industry by:\n",
      "    *   **Toy Type:**  (e.g., Plush toys, Action Figures, Board Games, Educational Toys) Different toy categories face unique challenges. For example, the licensing costs are more prevalent in action figures than board games.\n",
      "    *   **Company Size:** (e.g., Large multinational corporations vs. small independent toy makers) The challenges and resources available differ significantly based on company size.\n",
      "    *   **Target Audience:**  (e.g., Infants, Toddlers, School-aged children, Adults (collectors)) Different age groups require different safety standards and marketing approaches.\n",
      "\n",
      "**4. Impact of Macroeconomic Factors:**\n",
      "\n",
      "*   Briefly mentioning how macroeconomic factors such as inflation, recession, and geopolitical instability can further exacerbate the existing pain points would add context. For instance, inflation can drive up raw material costs and shipping expenses, while a recession can reduce consumer spending on non-essential items like toys.\n",
      "\n",
      "**5. Examples and Case Studies:**\n",
      "\n",
      "*   Adding specific examples of companies that have successfully addressed some of these pain points would make the analysis more compelling. For example:\n",
      "    *   A company that successfully diversified its sourcing and reduced its reliance on China.\n",
      "    *   A company that has embraced sustainable practices and created a successful \"eco-friendly\" toy line.\n",
      "    *   A company that has effectively integrated digital experiences into its traditional toy offerings.\n",
      "\n",
      "**In summary:** You have a strong foundation. By prioritizing the pain points, exploring specific solutions, segmenting the industry, considering macroeconomic factors, and adding concrete examples, you can create an even more impactful and insightful analysis of the challenges and opportunities in the toy business.\n",
      "\n"
     ]
    }
   ],
   "source": [
    "# First create the messages:\n",
    "\n",
    "\n",
    "# messages = [\"\"]\n",
    "\n",
    "# Then make the first call:\n",
    "\n",
    "response = client.models.generate_content(\n",
    "    model=\"gemini-2.0-flash\", contents=business_idea\n",
    ")\n",
    "\n",
    "# Then read the business idea:\n",
    "\n",
    "business_idea = response.text\n",
    "\n",
    "# And repeat!\n",
    "print (business_idea)"
   ]
  },
  {
   "cell_type": "markdown",
   "metadata": {},
   "source": []
  }
 ],
 "metadata": {
  "kernelspec": {
   "display_name": "Python 3",
   "language": "python",
   "name": "python3"
  },
  "language_info": {
   "codemirror_mode": {
    "name": "ipython",
    "version": 3
   },
   "file_extension": ".py",
   "mimetype": "text/x-python",
   "name": "python",
   "nbconvert_exporter": "python",
   "pygments_lexer": "ipython3",
   "version": "3.12.4"
  }
 },
 "nbformat": 4,
 "nbformat_minor": 2
}
